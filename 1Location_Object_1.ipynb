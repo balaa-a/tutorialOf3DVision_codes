{
 "cells": [
  {
   "cell_type": "code",
   "execution_count": 1,
   "metadata": {},
   "outputs": [
    {
     "name": "stdout",
     "output_type": "stream",
     "text": [
      "1.0471975511965976\n"
     ]
    },
    {
     "data": {
      "text/plain": [
       "matrix([[ 1.        ,  0.        ,  0.        ],\n",
       "        [ 0.        ,  0.45359612, -0.89120736],\n",
       "        [ 0.        ,  0.89120736,  0.45359612]])"
      ]
     },
     "execution_count": 1,
     "metadata": {},
     "output_type": "execute_result"
    }
   ],
   "source": [
    "import cv2 as cv\n",
    "import math\n",
    "import numpy as np\n",
    "##角度制转弧度制\n",
    "RAD = lambda v: v*math.pi/180;\n",
    "##xyz方向上偏转矩阵\n",
    "Rx = lambda rx: np.mat([[1,0,0],[0,math.cos(rx),-math.sin(rx)],[0,math.sin(rx),math.cos(rx)]])\n",
    "Ry = lambda ry: np.mat([[math.cos(ry),0,math.sin(ry)],[0,1,0],[-math.sin(ry),0,math.cos(ry)]])\n",
    "Rz = lambda rz: np.mat([[math.cos(rz),-math.sin(rz),0],[math.sin(rz),math.cos(rz),0],[0,0,1]])\n",
    "\n",
    "print(RAD(60))\n",
    "Rx(1.1)"
   ]
  },
  {
   "cell_type": "code",
   "execution_count": 2,
   "metadata": {},
   "outputs": [
    {
     "name": "stdout",
     "output_type": "stream",
     "text": [
      "concat point:  [[606]\n",
      " [246]] \n",
      "head point:  1\n",
      "start--- [[606]\n",
      " [246]]\n",
      "end--- 1\n"
     ]
    },
    {
     "ename": "TypeError",
     "evalue": "'int' object is not subscriptable",
     "output_type": "error",
     "traceback": [
      "\u001b[1;31m---------------------------------------------------------------------------\u001b[0m",
      "\u001b[1;31mTypeError\u001b[0m                                 Traceback (most recent call last)",
      "\u001b[1;32m<ipython-input-2-0c1f5339ce59>\u001b[0m in \u001b[0;36m<module>\u001b[1;34m\u001b[0m\n\u001b[0;32m     55\u001b[0m     \u001b[1;32mwhile\u001b[0m\u001b[1;33m(\u001b[0m\u001b[1;36m1\u001b[0m\u001b[1;33m)\u001b[0m\u001b[1;33m:\u001b[0m\u001b[1;33m\u001b[0m\u001b[1;33m\u001b[0m\u001b[0m\n\u001b[0;32m     56\u001b[0m         \u001b[0mimg\u001b[0m\u001b[1;33m=\u001b[0m\u001b[0mimage\u001b[0m\u001b[1;33m.\u001b[0m\u001b[0mcopy\u001b[0m\u001b[1;33m(\u001b[0m\u001b[1;33m)\u001b[0m\u001b[1;33m\u001b[0m\u001b[1;33m\u001b[0m\u001b[0m\n\u001b[1;32m---> 57\u001b[1;33m         \u001b[1;32mif\u001b[0m \u001b[0mend\u001b[0m\u001b[1;33m[\u001b[0m\u001b[1;36m0\u001b[0m\u001b[1;33m,\u001b[0m\u001b[1;36m0\u001b[0m\u001b[1;33m]\u001b[0m\u001b[1;33m>\u001b[0m\u001b[1;36m0\u001b[0m \u001b[1;32mand\u001b[0m \u001b[0mend\u001b[0m\u001b[1;33m[\u001b[0m\u001b[1;36m1\u001b[0m\u001b[1;33m,\u001b[0m\u001b[1;36m0\u001b[0m\u001b[1;33m]\u001b[0m\u001b[1;33m>\u001b[0m\u001b[1;36m0\u001b[0m\u001b[1;33m:\u001b[0m\u001b[1;33m\u001b[0m\u001b[1;33m\u001b[0m\u001b[0m\n\u001b[0m\u001b[0;32m     58\u001b[0m             \u001b[1;31m##计算Z、H、X值\u001b[0m\u001b[1;33m\u001b[0m\u001b[1;33m\u001b[0m\u001b[1;33m\u001b[0m\u001b[0m\n\u001b[0;32m     59\u001b[0m             \u001b[0mcp\u001b[0m\u001b[1;33m=\u001b[0m\u001b[0mR\u001b[0m\u001b[1;33m.\u001b[0m\u001b[0mT\u001b[0m\u001b[1;33m*\u001b[0m\u001b[0mnp\u001b[0m\u001b[1;33m.\u001b[0m\u001b[0mmat\u001b[0m\u001b[1;33m(\u001b[0m\u001b[1;33m[\u001b[0m\u001b[0mstart\u001b[0m\u001b[1;33m[\u001b[0m\u001b[1;36m0\u001b[0m\u001b[1;33m,\u001b[0m\u001b[1;36m0\u001b[0m\u001b[1;33m]\u001b[0m\u001b[1;33m-\u001b[0m\u001b[0mcx\u001b[0m\u001b[1;33m,\u001b[0m\u001b[0mstart\u001b[0m\u001b[1;33m[\u001b[0m\u001b[1;36m1\u001b[0m\u001b[1;33m,\u001b[0m\u001b[1;36m0\u001b[0m\u001b[1;33m]\u001b[0m\u001b[1;33m-\u001b[0m\u001b[0mcy\u001b[0m\u001b[1;33m,\u001b[0m\u001b[0mf\u001b[0m\u001b[1;33m]\u001b[0m\u001b[1;33m)\u001b[0m\u001b[1;33m.\u001b[0m\u001b[0mT\u001b[0m\u001b[1;33m\u001b[0m\u001b[1;33m\u001b[0m\u001b[0m\n",
      "\u001b[1;31mTypeError\u001b[0m: 'int' object is not subscriptable"
     ]
    }
   ],
   "source": [
    "flag = 0\n",
    "point=[0,1]\n",
    "def OnMouseAction(event,x,y,flags,param):\n",
    "    if event == cv.EVENT_LBUTTONDOWN:\n",
    "        if flag == 0:\n",
    "            point[0]=np.mat([x,y]).T\n",
    "#             print(\"第一次单击\",point[0])\n",
    "        elif flag == 1:\n",
    "            point[1]=np.mat([x,y]).T\n",
    "#             print(\"第二次单机\",point[1])\n",
    "            \n",
    "if __name__==\"__main__\":\n",
    "    ##参数\n",
    "    inputfile= \"./data/daejeon_station.png\"\n",
    "    f,cx,cy,L=810.5,480,270,3.31\n",
    "    cam_ori=np.mat([RAD(-18.7),RAD(-8.2),RAD(2.0)])\n",
    "    grid_x,grid_z=range(-2,3),range(5,35)\n",
    "    image=cv.imread(inputfile)\n",
    "    \n",
    "    ##绑定image图像，获取到headpoint和concatpoint\n",
    "    cv.namedWindow('image')\n",
    "    cv.setMouseCallback('image',OnMouseAction)\n",
    "    while(1):\n",
    "        cv.imshow('image',image)\n",
    "        k=cv.waitKey(1)\n",
    "        if k==ord('z'):\n",
    "            flag = 1\n",
    "        elif k==ord('q'):\n",
    "            break\n",
    "    print(\"concat point: \",point[0],\"\\nhead point: \",point[1])\n",
    "    start,end=point[0],point[1]##没有point所以使用列矩阵表示点坐标\n",
    "    cv.destroyAllWindows()\n",
    "    \n",
    "    ##绘制网格，绘制到image上，所以需要有x’转换成x：x'=Rx+t & x=R'x'+t'-->R=R^-1=R'^T,t=-R'^T*t'\n",
    "    K=np.mat([[f,0,cx],[0,f,cy],[0,0,1]])#camera matrix\n",
    "    Rc=Rz(cam_ori[0,2])*Ry(cam_ori[0,1])*Rx(cam_ori[0,0])#roration matrix\n",
    "    R=Rc.T##Rc是正交矩阵，其Rc的逆即是其转置\n",
    "    tc=np.mat([0,-L,0]).T##公式\n",
    "    t=-R*tc##公式\n",
    "    for z in grid_z:\n",
    "        p=K*(R*np.mat([grid_x[0],0,z]).T+t)\n",
    "        q=K*(R*np.mat([grid_x[-1],0,z]).T+t)\n",
    "        cv.line(image,(int(p[0,0]/p[2,0]),int(p[1,0]/p[2,0])),(int(q[0,0]/q[2,0]),int(q[1,0]/q[2,0])),(64, 128, 64),1)\n",
    "    for x in grid_x:\n",
    "        p=K*(R*np.mat([x,0,grid_z[0]]).T+t)\n",
    "        q=K*(R*np.mat([x,0,grid_z[-1]]).T+t)\n",
    "        cv.line(image,(int(p[0,0]/p[2,0]),int(p[1,0]/p[2,0])),(int(q[0,0]/q[2,0]),int(q[1,0]/q[2,0])),(64, 128, 64),1)\n",
    "  \n",
    "#     cv.imshow('image',image)\n",
    "#     cv.waitKey(0)\n",
    "#     cv.destroyAllWindows()\n",
    "    print(\"start---\",start)\n",
    "    print(\"end---\",end)\n",
    "    \n",
    "    while(1):\n",
    "        img=image.copy()\n",
    "        if end[0,0]>0 and end[1,0]>0: \n",
    "            ##计算Z、H、X值\n",
    "            cp=R.T*np.mat([start[0,0]-cx,start[1,0]-cy,f]).T\n",
    "            if cp[1,0]<0.001:##剔除接触点位置超出的情况\n",
    "                continue\n",
    "            hp=R.T*np.mat([end[0,0]-cx,end[1,0]-cy,f]).T\n",
    "            Z=cp[2,0]/cp[1,0]*L\n",
    "#             X=cp[0,0]/cp[1,0]*L\n",
    "            H=(cp[1,0]/cp[2,0]-hp[1,0]/hp[2,0])*Z\n",
    "            print(\"Z:\",Z,\"H\",H)\n",
    "            \n",
    "            cv.circle(img,(start[0,0],start[1,0]),4,(255,0,0),-1)\n",
    "            cv.circle(img,(end[0,0],end[1,0]),4,(255,0,0),-1)\n",
    "            #图像/文字/位置/字体/字体大小/颜色/字体粗细\n",
    "            cv.putText(img,\"Z:{:.3},H:{:.3}\".format(Z,H),(start[0,0]+10,start[1,0]+10),\n",
    "                                                          cv.FONT_HERSHEY_SIMPLEX,0.5,(255,255,0),1)\n",
    "            cv.imshow(\"image_copy\",img)\n",
    "            key=cv.waitKey(0)\n",
    "            if key==ord('q'):\n",
    "                break\n",
    "    cv.destroyAllWindows()"
   ]
  }
 ],
 "metadata": {
  "kernelspec": {
   "display_name": "Python 3",
   "language": "python",
   "name": "python3"
  },
  "language_info": {
   "codemirror_mode": {
    "name": "ipython",
    "version": 3
   },
   "file_extension": ".py",
   "mimetype": "text/x-python",
   "name": "python",
   "nbconvert_exporter": "python",
   "pygments_lexer": "ipython3",
   "version": "3.7.6"
  }
 },
 "nbformat": 4,
 "nbformat_minor": 4
}
