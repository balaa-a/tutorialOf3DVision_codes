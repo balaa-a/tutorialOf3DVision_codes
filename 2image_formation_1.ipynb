{
 "cells": [
  {
   "cell_type": "code",
   "execution_count": 1,
   "metadata": {},
   "outputs": [],
   "source": [
    "import cv2 as cv\n",
    "import math\n",
    "import numpy as np\n",
    "##角度制转弧度制\n",
    "RAD = lambda v: v*math.pi/180;\n",
    "##xyz方向上偏转矩阵\n",
    "Rx = lambda rx: np.mat([[1,0,0],[0,math.cos(rx),-math.sin(rx)],[0,math.sin(rx),math.cos(rx)]])\n",
    "Ry = lambda ry: np.mat([[math.cos(ry),0,math.sin(ry)],[0,1,0],[-math.sin(ry),0,math.cos(ry)]])\n",
    "Rz = lambda rz: np.mat([[math.cos(rz),-math.sin(rz),0],[math.sin(rz),math.cos(rz),0],[0,0,1]])"
   ]
  },
  {
   "cell_type": "code",
   "execution_count": 2,
   "metadata": {},
   "outputs": [],
   "source": [
    "if __name__==\"__main__\":\n",
    "    f,cx,cy,theta=1000,320,240,math.pi/12\n",
    "    cam_pos=[[0,0,0],[-2,-2,0],[2,2,0],[-2,2,0],[2,-2,0]]\n",
    "    cam_ori=[[0,0,0],[-theta,theta,0],[theta,-theta,0],[theta,theta,0],[-theta,-theta,0]]\n",
    "    file= open(\"./data/box.xyz\")\n",
    "    X=np.array([0,0,0,0]).reshape(1,4)\n",
    "    for line in file.readlines():\n",
    "        if line==\"\\n\":\n",
    "            continue\n",
    "        data=np.array(line.strip(\"\\n\").split(\" \")).astype(np.float)\n",
    "        data=np.concatenate((data,[1]),axis=0).reshape(1,4)\n",
    "        X=np.concatenate((X,data),axis=0)\n",
    "    X=np.delete(np.mat(X.T),0,axis=1)\n",
    "    K=np.mat([[f,0,cx],[0,f,cy],[0,0,1]])\n",
    "    for i in range(len(cam_pos)):\n",
    "        ##project matrix\n",
    "        Rc=Rz(cam_ori[i][2])*Ry(cam_ori[i][1])*Rx(cam_ori[i][0])\n",
    "        tc=np.mat(cam_pos[i]).T\n",
    "        Rt=np.concatenate((Rc.T,-Rc.T*tc.reshape(3,1)),axis=1)\n",
    "        P=K*Rt\n",
    "        \n",
    "        ##project the point\n",
    "        x=P*X\n",
    "        x[0]=x[0]/x[2]\n",
    "        x[1]=x[1]/x[2]\n",
    "        x[2]=1\n",
    "        \n",
    "        #gaussian noise\n",
    "        noise=np.random.randn(2,x[0].shape[1])\n",
    "        x[0]=x[0]+noise[0]\n",
    "        x[1]=x[1]+noise[1]\n",
    "        n,m=640,480\n",
    "        image=np.zeros((m,n))\n",
    "        for i in range(x[0].shape[1]):\n",
    "            p=np.mat(x[:2,i])\n",
    "            if p[0,0]>=0 and p[0,0]<=n and p[1,0]>=0 and p[1,0]<=m:\n",
    "                cv.circle(image,(int(p[0,0]),int(p[1,0])),2,255,-1)\n",
    "        cv.imshow(\"aa\",image)\n",
    "        cv.waitKey(0)\n",
    "        cv.destroyAllWindows()"
   ]
  },
  {
   "cell_type": "code",
   "execution_count": 4,
   "metadata": {
    "scrolled": true
   },
   "outputs": [],
   "source": [
    "# print(x)\n",
    "n,m=640,480\n",
    "image=np.zeros((m,n))\n",
    "for i in range(x[0].shape[1]):\n",
    "    p=np.mat(x[:2,i])\n",
    "    if p[0,0]>=0 and p[0,0]<=n and p[1,0]>=0 and p[1,0]<=m:\n",
    "        cv.circle(image,(int(p[0,0]),int(p[1,0])),2,255,-1)\n",
    "cv.imshow(\"aa\",image)\n",
    "cv.waitKey(0)\n",
    "cv.destroyAllWindows()"
   ]
  },
  {
   "cell_type": "code",
   "execution_count": 15,
   "metadata": {},
   "outputs": [
    {
     "data": {
      "text/plain": [
       "(2, 1)"
      ]
     },
     "execution_count": 15,
     "metadata": {},
     "output_type": "execute_result"
    }
   ],
   "source": [
    "a=x[:2,0]\n",
    "a.shape"
   ]
  }
 ],
 "metadata": {
  "kernelspec": {
   "display_name": "Python 3",
   "language": "python",
   "name": "python3"
  },
  "language_info": {
   "codemirror_mode": {
    "name": "ipython",
    "version": 3
   },
   "file_extension": ".py",
   "mimetype": "text/x-python",
   "name": "python",
   "nbconvert_exporter": "python",
   "pygments_lexer": "ipython3",
   "version": "3.7.6"
  }
 },
 "nbformat": 4,
 "nbformat_minor": 4
}
