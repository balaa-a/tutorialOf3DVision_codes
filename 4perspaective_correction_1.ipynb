{
 "cells": [
  {
   "cell_type": "code",
   "execution_count": 1,
   "metadata": {},
   "outputs": [
    {
     "name": "stdout",
     "output_type": "stream",
     "text": [
      "A point (index: 0) is selected at (115, 397).\n",
      "\n",
      "A point (index: 1) is selected at (780, 178).\n",
      "\n",
      "A point (index: 2) is selected at (331, 788).\n",
      "\n",
      "A point (index: 3) is selected at (1077, 377).\n",
      "\n"
     ]
    }
   ],
   "source": [
    "import cv2 as cv\n",
    "import numpy as np\n",
    "import math\n",
    "\n",
    "points_src=[]\n",
    "card_size=(450,250)\n",
    "points_dst=np.array([[0,0],[card_size[0],0],[0,card_size[1]],[card_size[0],card_size[1]]])\n",
    "def OnMouseAction(event,x,y,flags,param):\n",
    "    if event == cv.EVENT_LBUTTONDOWN:\n",
    "        points_src.append([x,y])\n",
    "        print(\"A point (index: {}) is selected at ({}, {}).\\n\".format(len(points_src) - 1, x, y))\n",
    "        \n",
    "if __name__==\"__main__\":\n",
    "    \n",
    "    ##获取匹配点\n",
    "    image=cv.imread(\"./data/sunglok_desk.jpg\")    \n",
    "    cv.imshow(\"image\",image)\n",
    "    cv.namedWindow('image')\n",
    "    cv.setMouseCallback('image',OnMouseAction)\n",
    "    cv.waitKey(0)\n",
    "    cv.destroyAllWindows()\n",
    "    \n",
    "#     display=image.copy()\n",
    "#     cv.rectangle(display, (10,10), (10+card_size[0],10+card_size[1]), (0,255,0))\n",
    "#     minx=min(len(points_src)-1,len(points_dst)-1)\n",
    "#     cv.circle(display,tuple(points_dst[minx]+np.array([10,10])),5, (0, 255, 0))\n",
    "#     cv.imshow(\"\",display)\n",
    "#     cv.waitKey(0)\n",
    "#     cv.destroyAllWindows()"
   ]
  },
  {
   "cell_type": "code",
   "execution_count": 2,
   "metadata": {},
   "outputs": [],
   "source": [
    "H,mask=cv.findHomography(np.array(points_src), points_dst)\n",
    "dst=cv.warpPerspective(image,H,card_size)\n",
    "cv.imshow(\"\",dst)\n",
    "cv.waitKey(0)\n",
    "cv.destroyAllWindows()"
   ]
  }
 ],
 "metadata": {
  "kernelspec": {
   "display_name": "Python 3",
   "language": "python",
   "name": "python3"
  },
  "language_info": {
   "codemirror_mode": {
    "name": "ipython",
    "version": 3
   },
   "file_extension": ".py",
   "mimetype": "text/x-python",
   "name": "python",
   "nbconvert_exporter": "python",
   "pygments_lexer": "ipython3",
   "version": "3.7.6"
  }
 },
 "nbformat": 4,
 "nbformat_minor": 4
}
