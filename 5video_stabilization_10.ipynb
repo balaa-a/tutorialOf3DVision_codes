{
 "cells": [
  {
   "cell_type": "code",
   "execution_count": 10,
   "metadata": {},
   "outputs": [],
   "source": [
    "import cv2 as cv\n",
    "import math\n",
    "import numpy as np\n",
    "\n",
    "video=cv.VideoCapture(\"./data/traffic.avi\")\n",
    "gray_ref=video.read()[1]\n",
    "gray_ref=cv.cvtColor(gray_ref,cv.COLOR_RGB2GRAY)\n",
    "point_ref=cv.goodFeaturesToTrack(gray_ref, 2000, 0.01, 10)\n",
    "\n",
    "####运行展示video stablization\n",
    "key=1\n",
    "while(key!=ord('q')):\n",
    "    image=video.read()[1]\n",
    "    if image is None:\n",
    "        break\n",
    "    gray=cv.cvtColor(image,cv.COLOR_RGB2GRAY)\n",
    "    ##提取光流并计算单应性\n",
    "    point, status, err=cv.calcOpticalFlowPyrLK(gray_ref, gray, point_ref,None)\n",
    "    H,mask=cv.findHomography(point,point_ref)\n",
    "    warp=cv.warpPerspective(image,H,(image.shape[1],image.shape[0]))\n",
    "    cv.imshow(\"\",warp)\n",
    "    key=cv.waitKey(10)\n",
    "    \n",
    "cv.waitKey(0)\n",
    "cv.destroyAllWindows()\n",
    "# point_ref"
   ]
  }
 ],
 "metadata": {
  "kernelspec": {
   "display_name": "Python 3",
   "language": "python",
   "name": "python3"
  },
  "language_info": {
   "codemirror_mode": {
    "name": "ipython",
    "version": 3
   },
   "file_extension": ".py",
   "mimetype": "text/x-python",
   "name": "python",
   "nbconvert_exporter": "python",
   "pygments_lexer": "ipython3",
   "version": "3.7.6"
  }
 },
 "nbformat": 4,
 "nbformat_minor": 4
}
