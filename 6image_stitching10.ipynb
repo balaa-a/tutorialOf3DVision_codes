{
 "cells": [
  {
   "cell_type": "code",
   "execution_count": 5,
   "metadata": {},
   "outputs": [],
   "source": [
    "import cv2 as cv\n",
    "import math\n",
    "import numpy as np\n",
    "\n",
    "##读取图像\n",
    "image1=cv.imread(\"./data/hill01.jpg\")\n",
    "image2=cv.imread(\"./data/hill02.jpg\")\n",
    "\n",
    "####通过BRISK检索关键点，计算描述符\n",
    "detector=cv.BRISK_create()\n",
    "# sift1 = cv2.xfeatures2d.SIFT_create()\n",
    "key_points1,descriptors1=detector.detectAndCompute(image1,None)\n",
    "key_points2,descriptors2=detector.detectAndCompute(image2,None)\n",
    "\n",
    "####强制匹配\n",
    "matcher = cv.DescriptorMatcher_create(cv.DescriptorMatcher_BRUTEFORCE)\n",
    "match = matcher.match(descriptors1, descriptors2)\n",
    "\n",
    "####计算H\n",
    "points1,points2=[],[]\n",
    "for i in range(len(match)):\n",
    "    points1.append([key_points1[match[i].queryIdx].pt])\n",
    "    points2.append([key_points2[match[i].trainIdx].pt])\n",
    "H,inlier_mask=cv.findHomography(np.array(points2),np.array(points1))\n",
    "H\n",
    "\n",
    "merged=cv.warpPerspective(image2,H,(image1.shape[1]*2,image1.shape[0]))\n",
    "# merged\n",
    "merged[:,:image1.shape[1]]=image1*1\n",
    "\n",
    "\n",
    "####\n",
    "# img_matches = np.empty((max(image1.shape[0], image2.shape[0]), image1.shape[1]+image2.shape[1], 3), dtype=np.uint8)\n",
    "matched=cv.drawMatches(image1, key_points1, image2, key_points2, match,None,matchesMask=inlier_mask)\n",
    "original=cv.hconcat([image1,image2])\n",
    "matched=cv.vconcat([original,matched])\n",
    "# merged=cv.vconcat([matched,merged])\n",
    "cv.imshow(\"aaa\",matched)\n",
    "cv.waitKey(0)\n",
    "cv.destroyAllWindows()"
   ]
  },
  {
   "cell_type": "code",
   "execution_count": 6,
   "metadata": {},
   "outputs": [],
   "source": [
    "stitcher = cv.Stitcher_create(False)\n",
    "foo = cv.imread(\"./data/hill01.jpg\")\n",
    "bar = cv.imread(\"./data/hill02.jpg\")\n",
    "result = stitcher.stitch((foo,bar))\n",
    "cv.imshow(\"aaa\",result[1])\n",
    "cv.waitKey(0)\n",
    "cv.destroyAllWindows()"
   ]
  }
 ],
 "metadata": {
  "kernelspec": {
   "display_name": "Python 3",
   "language": "python",
   "name": "python3"
  },
  "language_info": {
   "codemirror_mode": {
    "name": "ipython",
    "version": 3
   },
   "file_extension": ".py",
   "mimetype": "text/x-python",
   "name": "python",
   "nbconvert_exporter": "python",
   "pygments_lexer": "ipython3",
   "version": "3.7.6"
  }
 },
 "nbformat": 4,
 "nbformat_minor": 4
}
