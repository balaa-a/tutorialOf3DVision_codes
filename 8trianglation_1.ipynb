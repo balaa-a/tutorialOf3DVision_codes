{
 "cells": [
  {
   "cell_type": "code",
   "execution_count": 4,
   "metadata": {},
   "outputs": [],
   "source": [
    "import cv2 as cv\n",
    "import numpy as np\n",
    "import matplotlib.pyplot as plt\n",
    "\n",
    "##参数\n",
    "f,cx,cy=1000,320,240\n",
    "\n",
    "##加载2d点\n",
    "file0= open(\"./data/image_formation0.xyz\")\n",
    "file1= open(\"./data/image_formation1.xyz\")\n",
    "points0=[]\n",
    "points1=[]\n",
    "for line in file0.readlines():\n",
    "    if line==\"\\n\":\n",
    "        continue\n",
    "    data=np.array(line.strip(\"\\n\").split(\" \")).astype(np.float)\n",
    "    points0.append(data)\n",
    "points0=np.array(points0)[:,:2]\n",
    "for line in file1.readlines():\n",
    "    if line==\"\\n\":\n",
    "        continue\n",
    "    data=np.array(line.strip(\"\\n\").split(\" \")).astype(np.float)\n",
    "    points1.append(data)\n",
    "points1=np.array(points1)[:,:2]"
   ]
  },
  {
   "cell_type": "code",
   "execution_count": 5,
   "metadata": {
    "scrolled": false
   },
   "outputs": [
    {
     "name": "stdout",
     "output_type": "stream",
     "text": [
      "[[ 0.95760331 -0.00869856 -0.28795874  0.71862356]\n",
      " [-0.06812347  0.96435967 -0.25567483  0.68308596]\n",
      " [ 0.2799198   0.26445181  0.92288144  0.13028335]]\n"
     ]
    }
   ],
   "source": [
    "##估计两视图相关姿势，即求F、E\n",
    "F,mask=cv.findFundamentalMat(points0,points1)\n",
    "K=np.mat([[f, 0, cx],[ 0, f, cy],[ 0, 0, 1]])\n",
    "E=K.T*F*K\n",
    "ret,R,t,mask=cv.recoverPose(E,points0,points1,K)\n",
    "\n",
    "# ##重建3d点\n",
    "P0=K*np.mat(np.eye(3,4))\n",
    "Rt=np.concatenate((R,t.reshape(3,1)),axis=1)\n",
    "P1=K*Rt\n",
    "print(Rt)"
   ]
  },
  {
   "cell_type": "code",
   "execution_count": 6,
   "metadata": {},
   "outputs": [],
   "source": [
    "# # t\n",
    "X=cv.triangulatePoints(P0,P1,points0.T,points1.T)\n",
    "X[0]=X[0]/X[3]\n",
    "X[1]=X[1]/X[3]\n",
    "X[2]=X[2]/X[3]\n",
    "X[3]=1\n",
    "\n",
    "# print(len(X[0]) )\n",
    "for i in range(len(X[0])):\n",
    "    with open(\"triangulation.xyz\",'a') as f:\n",
    "        f.write(\"{} {} {}\\n\".format(X[0,i],X[1,i],X[2,i]))"
   ]
  },
  {
   "cell_type": "markdown",
   "metadata": {},
   "source": [
    "F:\\A_Codes\\C_PythonCodes\\JupyteNotebook\\CV"
   ]
  }
 ],
 "metadata": {
  "kernelspec": {
   "display_name": "Python 3",
   "language": "python",
   "name": "python3"
  },
  "language_info": {
   "codemirror_mode": {
    "name": "ipython",
    "version": 3
   },
   "file_extension": ".py",
   "mimetype": "text/x-python",
   "name": "python",
   "nbconvert_exporter": "python",
   "pygments_lexer": "ipython3",
   "version": "3.7.6"
  }
 },
 "nbformat": 4,
 "nbformat_minor": 4
}
